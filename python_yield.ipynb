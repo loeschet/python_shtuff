{
 "cells": [
  {
   "attachments": {},
   "cell_type": "markdown",
   "id": "65836adf",
   "metadata": {},
   "source": [
    "# The `yield` command in python\n",
    "\n",
    "I always asked myself what exactly `yield` does and what it is about. In particular, I was very confused, since it seemed to me it is used in functions similar to `return` statements, yet it seems to do something different.\n",
    "\n",
    "Spinning up a quick google search, I ended up with two very good pages about the topic - as usual on [realpython.com](https://realpython.com/introduction-to-python-generators/) and also on [stackoverflow](https://stackoverflow.com/questions/231767/what-does-the-yield-keyword-do). This notebook will be my summary of what I took away from the realpython atricle and the suggested answer on stackoverflow - originally posted by user [e-satis](https://stackoverflow.com/users/9951/e-satis).\n",
    "\n",
    "## The TL;DR\n",
    "\n",
    "`yield` is used when we are using a **generator function**. This is a special kind of python function that returns a [**generator object**](https://docs.python.org/3/c-api/gen.html). A generator object is similar to an **iterable** (take a look at the python docs glossary[here](https://docs.python.org/3/glossary.html)), with two important distinctions:\n",
    "- it can only be iterated over **once**\n",
    "- it's values are not stored in the memory before iteration\n",
    "\n",
    "This makes generators extremely useful if we need to iterate over a lot of values that we do not want to store in the memory. Let's have a look at some very simple code!\n",
    "\n",
    "## Generators 101\n",
    "\n",
    "In the code below, we start with a simple **iterable** and then show the equivalent code with a **generator** object:"
   ]
  },
  {
   "cell_type": "code",
   "execution_count": null,
   "id": "08f4a5f7-c738-4603-bfea-1fa983ff5c94",
   "metadata": {},
   "outputs": [],
   "source": [
    "# let's create a simple list\n",
    "mylist = [1, 2, 3]\n",
    "\n",
    "# Several objects in python are \"iterables\" (according to the documentation,\n",
    "# these are objects of any class that contain an __iter__() method or \n",
    "# a __getitem__() method which implements sequence semantics), which \n",
    "# means we can iterate over them and read them however we like:\n",
    "for i in mylist:\n",
    "    print(i)\n",
    "\n",
    "# A negative aspect of this is that we need to store all values in the memory\n",
    "# beforehand, like whith this list.\n",
    "# Here, it is not a big problem, but if we had millions of values,\n",
    "# it would look different."
   ]
  },
  {
   "cell_type": "code",
   "execution_count": null,
   "id": "a9563b67",
   "metadata": {},
   "outputs": [],
   "source": [
    "# Now, let's create a `generator` object. This can be done like this:\n",
    "mygenerator = (x for x in range(1,4))\n",
    "print(type(mygenerator))\n"
   ]
  },
  {
   "attachments": {},
   "cell_type": "markdown",
   "id": "b133310d",
   "metadata": {},
   "source": [
    "We can see that we created an object of the `generator` class. Let's try to iterate over it:"
   ]
  },
  {
   "cell_type": "code",
   "execution_count": null,
   "id": "5c103cbf",
   "metadata": {},
   "outputs": [],
   "source": [
    "for i in mygenerator:\n",
    "    print(i)"
   ]
  },
  {
   "attachments": {},
   "cell_type": "markdown",
   "id": "b6f56d50",
   "metadata": {},
   "source": [
    "We see that we can iterate over `generator` objects. This is becasue generators are **iterators**, a kind of iterable that you can iterate over only once. Let's try to iterate over it again:"
   ]
  },
  {
   "cell_type": "code",
   "execution_count": null,
   "id": "fd1cc0ba",
   "metadata": {},
   "outputs": [],
   "source": [
    "for i in mygenerator:\n",
    "    print(i)"
   ]
  },
  {
   "attachments": {},
   "cell_type": "markdown",
   "id": "987807b1",
   "metadata": {},
   "source": [
    "As we can see, the second iteration did not print any values, because we aren't able to iterate over our generator a second time, which is specific to **iterators** (and thus to `generator` objects).\n",
    "\n",
    "## Generator functions and `yield`\n",
    "\n",
    "Okay, we got a basic understanding of what `generator` objects are, but how does `yield` come into play? `yield` is used in **generator functions**, which are functions that produce `generator` objects. Let's take as an example the following function:"
   ]
  },
  {
   "cell_type": "code",
   "execution_count": null,
   "id": "2eb793d4",
   "metadata": {},
   "outputs": [],
   "source": [
    "def create_generator():\n",
    "    print(\"I'm in the create_generator function!\")\n",
    "    mylist = range(3)\n",
    "    for i in mylist:\n",
    "        yield i*i\n",
    "\n",
    "my_new_generator = create_generator()\n",
    "print(type(my_new_generator))"
   ]
  },
  {
   "attachments": {},
   "cell_type": "markdown",
   "id": "44d2971d",
   "metadata": {},
   "source": [
    "Okay, what the heck happened here!? We can make some interesting observations:\n",
    "- even though our `create_generator` function does not have a `return` statement, the function still did return something: an object of type `generator` (note that this also means that `yield` is NOT simply a replacement of a `return` statement, since otherwise the function should have returned `i*i`)\n",
    "- we called the function `create_generator` BUT the body of the function was not run! Otherwise we should have seen the printout of \"I'm in the create_generator function\", but we didn't\n",
    "\n",
    "The reason is the special behaviour of generator functions: They define how the generator should be executed when it is **iterated** over and only return the `generator` object itself. So the real magic happens when we call the object created from our generator function in a loop:"
   ]
  },
  {
   "cell_type": "code",
   "execution_count": null,
   "id": "9cebe6ae",
   "metadata": {},
   "outputs": [],
   "source": [
    "for i in my_new_generator:\n",
    "    print(i)"
   ]
  },
  {
   "attachments": {},
   "cell_type": "markdown",
   "id": "e5844a0a",
   "metadata": {},
   "source": [
    "Okay so we saw now that the code is executed **only after calling the `for` loop**. Okay so here is how it works in detail:\n",
    "Once the first `for` is calling the `generator` object that our function returned, it runs the code in said function until it hits the first `yield`, then returns the respective value. Then, each subsequent iteration of our `generator` object will *continue* the function from where we left off until it hits the next `yield` and then returns again the currently computed value of `i*i` and so on. This continues until the `generator` is \"empty\", so basically until our function is completely run and can't hit `yield` again. One can use `yield` in this way either using a loop (like we did with the `for` loop over `range(3)`) or using an `if/else` statement that `yield`s a value when a condition is `True` or `False`. This allows you to use `generator` objects in very smart and versatile ways."
   ]
  },
  {
   "attachments": {},
   "cell_type": "markdown",
   "id": "9c54698e",
   "metadata": {},
   "source": [
    "## Example with `if/else` logic: The ATM\n",
    "\n",
    "Let's take a look at a very similar example as described in the above stackoverflow post. We are building an ATM that always pays out 100 bucks if there is no crisis, but when there is a crisis, the ATM will hand out no money at all! No withdrawals allowed!"
   ]
  },
  {
   "cell_type": "code",
   "execution_count": null,
   "id": "33a50bf0",
   "metadata": {},
   "outputs": [],
   "source": [
    "# define Bank class\n",
    "class Bank():\n",
    "    def __init__(self):\n",
    "        self.crisis = False\n",
    "    \n",
    "    # create an ATM that yields 100$ when there is no crisis and 0$ when there\n",
    "    # actually is a crisis\n",
    "    def create_atm(self):\n",
    "        while True:\n",
    "            if self.crisis:\n",
    "                yield \"$0\"\n",
    "            else:\n",
    "                yield \"$100\""
   ]
  },
  {
   "cell_type": "code",
   "execution_count": null,
   "id": "606a7747",
   "metadata": {},
   "outputs": [],
   "source": [
    "super_bank = Bank()\n",
    "new_atm = super_bank.create_atm()\n",
    "print(type(new_atm))"
   ]
  },
  {
   "attachments": {},
   "cell_type": "markdown",
   "id": "58318542",
   "metadata": {},
   "source": [
    "We created a `generator` function inside our `Bank` class! Now let's do some iterations. In this example, I use the `next` function that just causes the next iteration of an `iterator` (like our `generator` object is) to run."
   ]
  },
  {
   "cell_type": "code",
   "execution_count": null,
   "id": "3bac1a30",
   "metadata": {},
   "outputs": [],
   "source": [
    "print(\"withdraw 100 bucks\")\n",
    "print(next(new_atm))\n",
    "\n",
    "print(\"withdraw 100 bucks again\")\n",
    "print(next(new_atm))\n",
    "\n",
    "print(\"withdraw 100 bucks three times in a row\")\n",
    "for i in range(3):\n",
    "    print(next(new_atm))\n",
    "\n",
    "print(\"Oh no! A crisis happens!\")\n",
    "super_bank.crisis = True\n",
    "\n",
    "print(\"Try to withdraw\")\n",
    "print(next(new_atm))\n",
    "\n",
    "print(\"Try again to withdraw\")\n",
    "print(next(new_atm))\n",
    "\n",
    "print(\"Try to withdraw three times in a row\")\n",
    "for i in range(3):\n",
    "    print(next(new_atm))\n",
    "\n",
    "print(\"Phew! Crisis is over\")\n",
    "super_bank.crisis = False\n",
    "\n",
    "print(\"Try to withdraw 100 bucks again\")\n",
    "print(next(new_atm))\n",
    "print(\"Yay! It works! Generator functions are cool!\")"
   ]
  },
  {
   "attachments": {},
   "cell_type": "markdown",
   "id": "7bd0e66e",
   "metadata": {},
   "source": [
    "Okay I guess we got a pretty good feeling of what `generator` objects and functions are and why they are useful!\n",
    "\n",
    "**Note:** Generators are useful if we are **memory limited**, that is, if we need to loop over a huge number of values or deal with a huge flow of incoming files, that we would need to store in our memory if we would use a more \"classical\" iterable approach using `list`s for example. However the *execution* of our code will typically be always faster when using lists compared to a generator-based approach, so we should not use generators if we are **computation power limited**.\n",
    "\n",
    "There are also some more advanced uses and additional useful methods one can call on `generator` objects, which are nicely described and explained in the [realpython article](https://realpython.com/introduction-to-python-generators/#creating-data-pipelines-with-generators), which I would recommend everyone interested in Generators to read!"
   ]
  }
 ],
 "metadata": {
  "kernelspec": {
   "display_name": "Python 3",
   "language": "python",
   "name": "python3"
  },
  "language_info": {
   "codemirror_mode": {
    "name": "ipython",
    "version": 3
   },
   "file_extension": ".py",
   "mimetype": "text/x-python",
   "name": "python",
   "nbconvert_exporter": "python",
   "pygments_lexer": "ipython3",
   "version": "3.10.9"
  },
  "vscode": {
   "interpreter": {
    "hash": "e7370f93d1d0cde622a1f8e1c04877d8463912d04d973331ad4851f04de6915a"
   }
  }
 },
 "nbformat": 4,
 "nbformat_minor": 5
}
